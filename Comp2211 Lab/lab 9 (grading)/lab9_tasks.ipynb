{
  "cells": [
    {
      "cell_type": "markdown",
      "metadata": {
        "id": "eWe4wsrm71O0"
      },
      "source": [
        "# **COMP 2211 Exploring Artificial Intelligence** #\n",
        "## Lab 9 Minimax and Alpha-Beta Pruning ##"
      ]
    },
    {
      "cell_type": "markdown",
      "metadata": {
        "id": "gD9h66WmEC3l"
      },
      "source": [
        "## **Lab tasks & Submission scheme**\n",
        "\n",
        "**Lab tasks:** \\\\\n",
        "In this lab, you are required to implement a game, Simple-Nim, using Minimax and Alpha-Beta Pruning.\n",
        "\n",
        " **Submission to ZINC:** \\\\\n",
        " After completing all [TODO] in this notebook, successfully running the code, and achieving the task requirement, please **COPY** all your [TODO] to the template __lab9_task.py__ (do not change the file name). Then, zip __lab9_task.py__ and submit **ONLY** the .zip file to ZINC.\n",
        "\n",
        " Before you submit your codes, please check the ***indentations***. "
      ]
    },
    {
      "cell_type": "markdown",
      "metadata": {
        "id": "WNOWUdimEutB"
      },
      "source": [
        "## **\bSimple-nim**\n",
        "\n",
        "Simple-nim is a game where several objects are placed in a shared pile, and two players take turns removing the objects from the pile. Each player is required to remove one or more objects on their turn. The player who takes the last object(s) wins the game.\n",
        "(You can play a demo [here](https://www.transum.org/Software/sw/Starter_of_the_day/Starter_May29.asp)) \n",
        "\n",
        "For example, there are 5 objects in a pile, and each player can remove one or two objects. The details are as follows:\n",
        "\n",
        "**Setting**\n",
        "*   5 objects: 🍊🍊🍊🍊🍊\n",
        "*   Player 1: 😆 \n",
        "*   Player 2: 😎 \n",
        "\n",
        "**Turn examples**\n",
        "1. 😆 : Remove 2 objects → remaining objects:🍊🍊🍊\n",
        "2. 😎 : Remove 2 objects → remaining objects:🍊\n",
        "3. 😆 : Remove 1 objects → remaining objects:\n",
        "\n",
        "**Winner:** 😆 \\\\\n",
        "The player who removes the last object(s) wins the game!"
      ]
    },
    {
      "cell_type": "markdown",
      "metadata": {
        "id": "jsVUubHRbijq"
      },
      "source": [
        "## **Minimax algorithm for the Simple-nim game**\n",
        "\n",
        "In this task, you will implement a minimax algorithm for the Simple-nim game.\n",
        "If player1 wins, the terminal score will be 1. Otherwise, the terminal score will be -1. (i.e., The player1 is a maximizer, while player2 is a minimizer.)\n",
        "\n",
        "\\\\\n",
        "The steps are as follows:\n",
        "1.   Construct a game tree\n",
        "2.   Score the leaf nodes: Max wins=1, Min wins=-1\n",
        "3.   **[TODO]** Beginning with the terminal states, determine the score of the predecessor nodes. \n",
        "4.   **[TODO]** From the initial state(i.e., the root of the game tree), Max chooses the move that leads to the highest value(minimax decision).\n",
        "\n"
      ]
    },
    {
      "cell_type": "markdown",
      "metadata": {
        "id": "T7Lo20vpFk3X"
      },
      "source": [
        "### Before we begin"
      ]
    },
    {
      "cell_type": "markdown",
      "metadata": {
        "id": "THund6lsyyyB"
      },
      "source": [
        "#### Install librarys"
      ]
    },
    {
      "cell_type": "code",
      "execution_count": 1,
      "metadata": {
        "id": "EaAhKXUkAVTr"
      },
      "outputs": [
        {
          "name": "stdout",
          "output_type": "stream",
          "text": [
            "Collecting anytree\n",
            "  Downloading anytree-2.8.0-py2.py3-none-any.whl (41 kB)\n",
            "     ---------------------------------------- 0.0/41.7 kB ? eta -:--:--\n",
            "     ---------------------------------------- 41.7/41.7 kB 2.0 MB/s eta 0:00:00\n",
            "Requirement already satisfied: six>=1.9.0 in c:\\users\\miruh\\appdata\\local\\programs\\python\\python39\\lib\\site-packages (from anytree) (1.16.0)\n",
            "Installing collected packages: anytree\n",
            "Successfully installed anytree-2.8.0\n"
          ]
        },
        {
          "name": "stderr",
          "output_type": "stream",
          "text": [
            "\n",
            "[notice] A new release of pip is available: 23.0.1 -> 23.1.2\n",
            "[notice] To update, run: python.exe -m pip install --upgrade pip\n"
          ]
        },
        {
          "name": "stdout",
          "output_type": "stream",
          "text": [
            "Collecting graphviz\n",
            "  Downloading graphviz-0.20.1-py3-none-any.whl (47 kB)\n",
            "     ---------------------------------------- 0.0/47.0 kB ? eta -:--:--\n",
            "     ---------------------------------------- 47.0/47.0 kB 2.3 MB/s eta 0:00:00\n",
            "Installing collected packages: graphviz\n",
            "Successfully installed graphviz-0.20.1\n"
          ]
        },
        {
          "name": "stderr",
          "output_type": "stream",
          "text": [
            "\n",
            "[notice] A new release of pip is available: 23.0.1 -> 23.1.2\n",
            "[notice] To update, run: python.exe -m pip install --upgrade pip\n"
          ]
        },
        {
          "name": "stdout",
          "output_type": "stream",
          "text": [
            "Requirement already satisfied: IPython in c:\\users\\miruh\\appdata\\local\\programs\\python\\python39\\lib\\site-packages (8.10.0)\n",
            "Requirement already satisfied: backcall in c:\\users\\miruh\\appdata\\local\\programs\\python\\python39\\lib\\site-packages (from IPython) (0.2.0)\n",
            "Requirement already satisfied: pygments>=2.4.0 in c:\\users\\miruh\\appdata\\local\\programs\\python\\python39\\lib\\site-packages (from IPython) (2.14.0)\n",
            "Requirement already satisfied: decorator in c:\\users\\miruh\\appdata\\local\\programs\\python\\python39\\lib\\site-packages (from IPython) (5.1.1)\n",
            "Requirement already satisfied: pickleshare in c:\\users\\miruh\\appdata\\local\\programs\\python\\python39\\lib\\site-packages (from IPython) (0.7.5)\n",
            "Requirement already satisfied: traitlets>=5 in c:\\users\\miruh\\appdata\\local\\programs\\python\\python39\\lib\\site-packages (from IPython) (5.9.0)\n",
            "Requirement already satisfied: jedi>=0.16 in c:\\users\\miruh\\appdata\\local\\programs\\python\\python39\\lib\\site-packages (from IPython) (0.18.2)\n",
            "Requirement already satisfied: colorama in c:\\users\\miruh\\appdata\\local\\programs\\python\\python39\\lib\\site-packages (from IPython) (0.4.4)\n",
            "Requirement already satisfied: stack-data in c:\\users\\miruh\\appdata\\local\\programs\\python\\python39\\lib\\site-packages (from IPython) (0.6.2)\n",
            "Requirement already satisfied: prompt-toolkit<3.1.0,>=3.0.30 in c:\\users\\miruh\\appdata\\local\\programs\\python\\python39\\lib\\site-packages (from IPython) (3.0.36)\n",
            "Requirement already satisfied: matplotlib-inline in c:\\users\\miruh\\appdata\\local\\programs\\python\\python39\\lib\\site-packages (from IPython) (0.1.6)\n",
            "Requirement already satisfied: parso<0.9.0,>=0.8.0 in c:\\users\\miruh\\appdata\\local\\programs\\python\\python39\\lib\\site-packages (from jedi>=0.16->IPython) (0.8.3)\n",
            "Requirement already satisfied: wcwidth in c:\\users\\miruh\\appdata\\local\\programs\\python\\python39\\lib\\site-packages (from prompt-toolkit<3.1.0,>=3.0.30->IPython) (0.2.6)\n",
            "Requirement already satisfied: asttokens>=2.1.0 in c:\\users\\miruh\\appdata\\local\\programs\\python\\python39\\lib\\site-packages (from stack-data->IPython) (2.2.1)\n",
            "Requirement already satisfied: pure-eval in c:\\users\\miruh\\appdata\\local\\programs\\python\\python39\\lib\\site-packages (from stack-data->IPython) (0.2.2)\n",
            "Requirement already satisfied: executing>=1.2.0 in c:\\users\\miruh\\appdata\\local\\programs\\python\\python39\\lib\\site-packages (from stack-data->IPython) (1.2.0)\n",
            "Requirement already satisfied: six in c:\\users\\miruh\\appdata\\local\\programs\\python\\python39\\lib\\site-packages (from asttokens>=2.1.0->stack-data->IPython) (1.16.0)\n"
          ]
        },
        {
          "name": "stderr",
          "output_type": "stream",
          "text": [
            "\n",
            "[notice] A new release of pip is available: 23.0.1 -> 23.1.2\n",
            "[notice] To update, run: python.exe -m pip install --upgrade pip\n"
          ]
        }
      ],
      "source": [
        "!pip install anytree\n",
        "!pip install graphviz\n",
        "!pip install IPython"
      ]
    },
    {
      "cell_type": "markdown",
      "metadata": {
        "id": "uFOU4LbPHx9M"
      },
      "source": [
        "#### Download sample images\n",
        "Run this code cell with these `!wget` Linux commands to connect and login to the COMP2211 course server and download the datasets. Modify the **--user=username** portion with your CSD username. The output will prompt you to enter your CSD password and will not be saved in Google Colab."
      ]
    },
    {
      "cell_type": "code",
      "execution_count": 2,
      "metadata": {
        "id": "kIXJa3ZSbrPh"
      },
      "outputs": [
        {
          "name": "stderr",
          "output_type": "stream",
          "text": [
            "'wget' is not recognized as an internal or external command,\n",
            "operable program or batch file.\n",
            "'wget' is not recognized as an internal or external command,\n",
            "operable program or batch file.\n"
          ]
        }
      ],
      "source": [
        "!wget --user=mhchanax --ask-password https://course.cse.ust.hk/comp2211/labs/lab9/files/tree_score_A.png\n",
        "!wget --user=mhchanax --ask-password https://course.cse.ust.hk/comp2211/labs/lab9/files/tree_score_pruning_A.png"
      ]
    },
    {
      "cell_type": "markdown",
      "metadata": {
        "id": "D7aqfgmQfMMi"
      },
      "source": [
        "### **Construct a complete game tree**\n",
        "> ***To avoid potential debugging issues in the future, please do not change the following codes.*** \n",
        "\n",
        "The following codes will aid you in constructing the game tree. While you do not need to comprehend the code entirely, it will be useful for implementing the upcoming [TODO].\n",
        "\n",
        "We will use `anytree` library in the entire task. You can refer [here](https://anytree.readthedocs.io/en/2.8.0/api/anytree.node.html) to get additional information of anytree library."
      ]
    },
    {
      "cell_type": "code",
      "execution_count": 3,
      "metadata": {
        "id": "_vZh6aG179mO"
      },
      "outputs": [],
      "source": [
        "from anytree.importer import DictImporter\n",
        "from anytree.exporter import UniqueDotExporter\n",
        "from IPython.display import Image\n",
        "\n",
        "class Tree:\n",
        "    def __init__(self,max_items_per_turn):\n",
        "        self.max_items_per_turn=max_items_per_turn\n",
        "\n",
        "    #   input: object_state (number of remaining objects)\n",
        "    #   output: all candidates that can be a new state\n",
        "    def state_candidates(self,object_state):\n",
        "        return [object_state - num_remove for num_remove in range(1,self.max_items_per_turn+1) if num_remove <= object_state]\n",
        "\n",
        "\n",
        "    #   Each node has 'object_state', 'current_player', 'score' attributes\n",
        "    #   If you specify a value for the 'children' attribute, it will be added as a child node.\n",
        "    def construct_tree(self,object_state,current_player):\n",
        "        tree_dict={}\n",
        "        if current_player==\"Max\":  #\"Max\" indicates the maximizer while \"Min\" indicates the minimizer.\n",
        "            tree_dict['object_state']=object_state\n",
        "            tree_dict['current_player']=current_player\n",
        "            tree_dict['score']=None\n",
        "            tree_dict['children']=[\n",
        "                self.construct_tree(new_state,\"Min\")\n",
        "                for new_state in self.state_candidates(object_state)\n",
        "            ]\n",
        "            return tree_dict\n",
        "\n",
        "        else:\n",
        "            tree_dict['object_state']=object_state\n",
        "            tree_dict['current_player']=current_player\n",
        "            tree_dict['score']=None\n",
        "            tree_dict['children']=[\n",
        "                self.construct_tree(new_state,\"Max\")\n",
        "                for new_state in self.state_candidates(object_state)\n",
        "            ]\n",
        "            return tree_dict\n",
        "    \n",
        "\n",
        "    def convert_dict_to_tree(self,tree_dict):\n",
        "        importer = DictImporter()\n",
        "        return importer.import_(tree_dict)\n",
        "\n",
        "\n",
        "    #visualize tree\n",
        "    def export_tree(self,node,is_score_tree,tree_name):\n",
        "        if is_score_tree:\n",
        "            UniqueDotExporter(node,\n",
        "            nodeattrfunc=lambda n: 'label=\"%s:%s\"' % (n.current_player,n.object_state),\n",
        "            edgeattrfunc=lambda n,c:'label=\"%s\"' %(c.score)\n",
        "            ).to_picture(tree_name+\".png\")\n",
        "        else:\n",
        "            node=self.convert_dict_to_tree(node)\n",
        "            UniqueDotExporter(node,\n",
        "                              nodeattrfunc=lambda n: 'label=\"%s:%s\"' % (n.current_player,n.object_state)\n",
        "                              ).to_picture(tree_name+\".png\")"
      ]
    },
    {
      "cell_type": "markdown",
      "metadata": {
        "id": "R9hg1JIthTMY"
      },
      "source": [
        "You can check the visualized game tree.\n",
        "Each node consists of [player:number of remaining objects]."
      ]
    },
    {
      "cell_type": "code",
      "execution_count": 9,
      "metadata": {
        "id": "ptGCWwmwg1ux"
      },
      "outputs": [
        {
          "ename": "FileNotFoundError",
          "evalue": "[WinError 2] The system cannot find the file specified",
          "output_type": "error",
          "traceback": [
            "\u001b[1;31m---------------------------------------------------------------------------\u001b[0m",
            "\u001b[1;31mFileNotFoundError\u001b[0m                         Traceback (most recent call last)",
            "Cell \u001b[1;32mIn[9], line 15\u001b[0m\n\u001b[0;32m     12\u001b[0m test_tree_dict\u001b[39m=\u001b[39mtest_tree\u001b[39m.\u001b[39mconstruct_tree(initial_object,current_player)\n\u001b[0;32m     14\u001b[0m \u001b[39m#tree visualization\u001b[39;00m\n\u001b[1;32m---> 15\u001b[0m test_tree\u001b[39m.\u001b[39;49mexport_tree(test_tree_dict,is_score_tree\u001b[39m=\u001b[39;49m\u001b[39mFalse\u001b[39;49;00m,tree_name\u001b[39m=\u001b[39;49m\u001b[39m\"\u001b[39;49m\u001b[39mtree_test\u001b[39;49m\u001b[39m\"\u001b[39;49m)\n\u001b[0;32m     16\u001b[0m Image(\u001b[39m'\u001b[39m\u001b[39mtree_test.png\u001b[39m\u001b[39m'\u001b[39m,width\u001b[39m=\u001b[39m\u001b[39m1000\u001b[39m)\n",
            "Cell \u001b[1;32mIn[3], line 54\u001b[0m, in \u001b[0;36mTree.export_tree\u001b[1;34m(self, node, is_score_tree, tree_name)\u001b[0m\n\u001b[0;32m     52\u001b[0m \u001b[39melse\u001b[39;00m:\n\u001b[0;32m     53\u001b[0m     node\u001b[39m=\u001b[39m\u001b[39mself\u001b[39m\u001b[39m.\u001b[39mconvert_dict_to_tree(node)\n\u001b[1;32m---> 54\u001b[0m     UniqueDotExporter(node,\n\u001b[0;32m     55\u001b[0m                       nodeattrfunc\u001b[39m=\u001b[39;49m\u001b[39mlambda\u001b[39;49;00m n: \u001b[39m'\u001b[39;49m\u001b[39mlabel=\u001b[39;49m\u001b[39m\"\u001b[39;49m\u001b[39m%s\u001b[39;49;00m\u001b[39m:\u001b[39;49m\u001b[39m%s\u001b[39;49;00m\u001b[39m\"\u001b[39;49m\u001b[39m'\u001b[39;49m \u001b[39m%\u001b[39;49m (n\u001b[39m.\u001b[39;49mcurrent_player,n\u001b[39m.\u001b[39;49mobject_state)\n\u001b[0;32m     56\u001b[0m                       )\u001b[39m.\u001b[39;49mto_picture(tree_name\u001b[39m+\u001b[39;49m\u001b[39m\"\u001b[39;49m\u001b[39m.png\u001b[39;49m\u001b[39m\"\u001b[39;49m)\n",
            "File \u001b[1;32mc:\\Users\\miruh\\AppData\\Local\\Programs\\Python\\Python39\\lib\\site-packages\\anytree\\exporter\\dotexporter.py:272\u001b[0m, in \u001b[0;36mDotExporter.to_picture\u001b[1;34m(self, filename)\u001b[0m\n\u001b[0;32m    270\u001b[0m     dotfile\u001b[39m.\u001b[39mflush()\n\u001b[0;32m    271\u001b[0m     cmd \u001b[39m=\u001b[39m [\u001b[39m\"\u001b[39m\u001b[39mdot\u001b[39m\u001b[39m\"\u001b[39m, dotfilename, \u001b[39m\"\u001b[39m\u001b[39m-T\u001b[39m\u001b[39m\"\u001b[39m, fileformat, \u001b[39m\"\u001b[39m\u001b[39m-o\u001b[39m\u001b[39m\"\u001b[39m, filename]\n\u001b[1;32m--> 272\u001b[0m     check_call(cmd)\n\u001b[0;32m    273\u001b[0m \u001b[39mtry\u001b[39;00m:\n\u001b[0;32m    274\u001b[0m     remove(dotfilename)\n",
            "File \u001b[1;32mc:\\Users\\miruh\\AppData\\Local\\Programs\\Python\\Python39\\lib\\subprocess.py:368\u001b[0m, in \u001b[0;36mcheck_call\u001b[1;34m(*popenargs, **kwargs)\u001b[0m\n\u001b[0;32m    358\u001b[0m \u001b[39mdef\u001b[39;00m \u001b[39mcheck_call\u001b[39m(\u001b[39m*\u001b[39mpopenargs, \u001b[39m*\u001b[39m\u001b[39m*\u001b[39mkwargs):\n\u001b[0;32m    359\u001b[0m \u001b[39m    \u001b[39m\u001b[39m\"\"\"Run command with arguments.  Wait for command to complete.  If\u001b[39;00m\n\u001b[0;32m    360\u001b[0m \u001b[39m    the exit code was zero then return, otherwise raise\u001b[39;00m\n\u001b[0;32m    361\u001b[0m \u001b[39m    CalledProcessError.  The CalledProcessError object will have the\u001b[39;00m\n\u001b[1;32m   (...)\u001b[0m\n\u001b[0;32m    366\u001b[0m \u001b[39m    check_call([\"ls\", \"-l\"])\u001b[39;00m\n\u001b[0;32m    367\u001b[0m \u001b[39m    \"\"\"\u001b[39;00m\n\u001b[1;32m--> 368\u001b[0m     retcode \u001b[39m=\u001b[39m call(\u001b[39m*\u001b[39mpopenargs, \u001b[39m*\u001b[39m\u001b[39m*\u001b[39mkwargs)\n\u001b[0;32m    369\u001b[0m     \u001b[39mif\u001b[39;00m retcode:\n\u001b[0;32m    370\u001b[0m         cmd \u001b[39m=\u001b[39m kwargs\u001b[39m.\u001b[39mget(\u001b[39m\"\u001b[39m\u001b[39margs\u001b[39m\u001b[39m\"\u001b[39m)\n",
            "File \u001b[1;32mc:\\Users\\miruh\\AppData\\Local\\Programs\\Python\\Python39\\lib\\subprocess.py:349\u001b[0m, in \u001b[0;36mcall\u001b[1;34m(timeout, *popenargs, **kwargs)\u001b[0m\n\u001b[0;32m    341\u001b[0m \u001b[39mdef\u001b[39;00m \u001b[39mcall\u001b[39m(\u001b[39m*\u001b[39mpopenargs, timeout\u001b[39m=\u001b[39m\u001b[39mNone\u001b[39;00m, \u001b[39m*\u001b[39m\u001b[39m*\u001b[39mkwargs):\n\u001b[0;32m    342\u001b[0m \u001b[39m    \u001b[39m\u001b[39m\"\"\"Run command with arguments.  Wait for command to complete or\u001b[39;00m\n\u001b[0;32m    343\u001b[0m \u001b[39m    timeout, then return the returncode attribute.\u001b[39;00m\n\u001b[0;32m    344\u001b[0m \n\u001b[1;32m   (...)\u001b[0m\n\u001b[0;32m    347\u001b[0m \u001b[39m    retcode = call([\"ls\", \"-l\"])\u001b[39;00m\n\u001b[0;32m    348\u001b[0m \u001b[39m    \"\"\"\u001b[39;00m\n\u001b[1;32m--> 349\u001b[0m     \u001b[39mwith\u001b[39;00m Popen(\u001b[39m*\u001b[39mpopenargs, \u001b[39m*\u001b[39m\u001b[39m*\u001b[39mkwargs) \u001b[39mas\u001b[39;00m p:\n\u001b[0;32m    350\u001b[0m         \u001b[39mtry\u001b[39;00m:\n\u001b[0;32m    351\u001b[0m             \u001b[39mreturn\u001b[39;00m p\u001b[39m.\u001b[39mwait(timeout\u001b[39m=\u001b[39mtimeout)\n",
            "File \u001b[1;32mc:\\Users\\miruh\\AppData\\Local\\Programs\\Python\\Python39\\lib\\subprocess.py:951\u001b[0m, in \u001b[0;36mPopen.__init__\u001b[1;34m(self, args, bufsize, executable, stdin, stdout, stderr, preexec_fn, close_fds, shell, cwd, env, universal_newlines, startupinfo, creationflags, restore_signals, start_new_session, pass_fds, user, group, extra_groups, encoding, errors, text, umask)\u001b[0m\n\u001b[0;32m    947\u001b[0m         \u001b[39mif\u001b[39;00m \u001b[39mself\u001b[39m\u001b[39m.\u001b[39mtext_mode:\n\u001b[0;32m    948\u001b[0m             \u001b[39mself\u001b[39m\u001b[39m.\u001b[39mstderr \u001b[39m=\u001b[39m io\u001b[39m.\u001b[39mTextIOWrapper(\u001b[39mself\u001b[39m\u001b[39m.\u001b[39mstderr,\n\u001b[0;32m    949\u001b[0m                     encoding\u001b[39m=\u001b[39mencoding, errors\u001b[39m=\u001b[39merrors)\n\u001b[1;32m--> 951\u001b[0m     \u001b[39mself\u001b[39;49m\u001b[39m.\u001b[39;49m_execute_child(args, executable, preexec_fn, close_fds,\n\u001b[0;32m    952\u001b[0m                         pass_fds, cwd, env,\n\u001b[0;32m    953\u001b[0m                         startupinfo, creationflags, shell,\n\u001b[0;32m    954\u001b[0m                         p2cread, p2cwrite,\n\u001b[0;32m    955\u001b[0m                         c2pread, c2pwrite,\n\u001b[0;32m    956\u001b[0m                         errread, errwrite,\n\u001b[0;32m    957\u001b[0m                         restore_signals,\n\u001b[0;32m    958\u001b[0m                         gid, gids, uid, umask,\n\u001b[0;32m    959\u001b[0m                         start_new_session)\n\u001b[0;32m    960\u001b[0m \u001b[39mexcept\u001b[39;00m:\n\u001b[0;32m    961\u001b[0m     \u001b[39m# Cleanup if the child failed starting.\u001b[39;00m\n\u001b[0;32m    962\u001b[0m     \u001b[39mfor\u001b[39;00m f \u001b[39min\u001b[39;00m \u001b[39mfilter\u001b[39m(\u001b[39mNone\u001b[39;00m, (\u001b[39mself\u001b[39m\u001b[39m.\u001b[39mstdin, \u001b[39mself\u001b[39m\u001b[39m.\u001b[39mstdout, \u001b[39mself\u001b[39m\u001b[39m.\u001b[39mstderr)):\n",
            "File \u001b[1;32mc:\\Users\\miruh\\AppData\\Local\\Programs\\Python\\Python39\\lib\\subprocess.py:1420\u001b[0m, in \u001b[0;36mPopen._execute_child\u001b[1;34m(self, args, executable, preexec_fn, close_fds, pass_fds, cwd, env, startupinfo, creationflags, shell, p2cread, p2cwrite, c2pread, c2pwrite, errread, errwrite, unused_restore_signals, unused_gid, unused_gids, unused_uid, unused_umask, unused_start_new_session)\u001b[0m\n\u001b[0;32m   1418\u001b[0m \u001b[39m# Start the process\u001b[39;00m\n\u001b[0;32m   1419\u001b[0m \u001b[39mtry\u001b[39;00m:\n\u001b[1;32m-> 1420\u001b[0m     hp, ht, pid, tid \u001b[39m=\u001b[39m _winapi\u001b[39m.\u001b[39;49mCreateProcess(executable, args,\n\u001b[0;32m   1421\u001b[0m                              \u001b[39m# no special security\u001b[39;49;00m\n\u001b[0;32m   1422\u001b[0m                              \u001b[39mNone\u001b[39;49;00m, \u001b[39mNone\u001b[39;49;00m,\n\u001b[0;32m   1423\u001b[0m                              \u001b[39mint\u001b[39;49m(\u001b[39mnot\u001b[39;49;00m close_fds),\n\u001b[0;32m   1424\u001b[0m                              creationflags,\n\u001b[0;32m   1425\u001b[0m                              env,\n\u001b[0;32m   1426\u001b[0m                              cwd,\n\u001b[0;32m   1427\u001b[0m                              startupinfo)\n\u001b[0;32m   1428\u001b[0m \u001b[39mfinally\u001b[39;00m:\n\u001b[0;32m   1429\u001b[0m     \u001b[39m# Child is launched. Close the parent's copy of those pipe\u001b[39;00m\n\u001b[0;32m   1430\u001b[0m     \u001b[39m# handles that only the child should have open.  You need\u001b[39;00m\n\u001b[1;32m   (...)\u001b[0m\n\u001b[0;32m   1433\u001b[0m     \u001b[39m# pipe will not close when the child process exits and the\u001b[39;00m\n\u001b[0;32m   1434\u001b[0m     \u001b[39m# ReadFile will hang.\u001b[39;00m\n\u001b[0;32m   1435\u001b[0m     \u001b[39mself\u001b[39m\u001b[39m.\u001b[39m_close_pipe_fds(p2cread, p2cwrite,\n\u001b[0;32m   1436\u001b[0m                          c2pread, c2pwrite,\n\u001b[0;32m   1437\u001b[0m                          errread, errwrite)\n",
            "\u001b[1;31mFileNotFoundError\u001b[0m: [WinError 2] The system cannot find the file specified"
          ]
        }
      ],
      "source": [
        "#The maximum number of objects that each player can remove\n",
        "max_items_per_turn=3\n",
        "\n",
        "#The number of initial objects\n",
        "initial_object=5\n",
        "\n",
        "#Assume that the maximizer starts the game\n",
        "current_player='Max'\n",
        "\n",
        "#get the tree\n",
        "test_tree=Tree(max_items_per_turn)\n",
        "test_tree_dict=test_tree.construct_tree(initial_object,current_player)\n",
        "\n",
        "#tree visualization\n",
        "test_tree.export_tree(test_tree_dict,is_score_tree=False,tree_name=\"tree_test\")\n",
        "Image('tree_test.png',width=1000)"
      ]
    },
    {
      "cell_type": "markdown",
      "metadata": {
        "id": "ClvBfWeob2lZ"
      },
      "source": [
        "### **Task1: Implement minimax**\n",
        "\n",
        ">  *In this task, you will implement **only** `minimax` and `max_move` functions. Please ensure that you have addressed all of the [TODO] items  before submission.*\n",
        "\n",
        "\\\n",
        "\n",
        "**Task 1 [TODO] list :** \\\n",
        "\n",
        "☑️ 　　**[TODO 1]**: Retrieve all possible states and give a score for current node in maximizer's view. \\\n",
        "☑️ 　　**[TODO 2]**: Retrieve all possible states and give a score for current node in minimizer's view.\\\n",
        "☑️ 　　**[TODO 3]**: Get the scores of child nodes and decide the maximizer's action(how many objects to remove).\n",
        "\n",
        "\n",
        "\n",
        "\\\n",
        "\n",
        "You can refer to the following descriptions for clarification:\n",
        "\n",
        "1.   `score_leaves` : Give each leaf node a score.\n",
        "    *   If Max(maximizer) wins, the score will be 1.\n",
        "    *   If Max loses, the score will be -1.\n",
        "\n",
        "2.   `check_leaf`: Check whether the input node is a leaf node. \n",
        "    *   If the node is a leaf node, return the score we set in the `score_leaves` function.\n",
        "\n",
        "\n",
        "\n",
        "3.   `minimax`: Retrieve the game tree, giving a score to each node.\n",
        "    *   If the current node is a Min node: the value is the **minimum** of the children nodes\n",
        "\n",
        "    *   If the current node is a Max node: the value is the **maximum** of the children nodes\n",
        "\n",
        "    *   Search the game tree in a Depth-First manner to find the value of the root. Depth-first search is an algorithm for traversing or searching tree data structures. The algorithm starts at the root node and explores as far as possible along each branch before backtracking.\n",
        "\n",
        "\n",
        "4. `max_action`: Given the scores from `minimax`, the maximizer will remove object(s) that maximize the score.\n",
        "\n",
        "5. `user_input`: Instead of the minimizer, we will take user inputs to play with the maximizer.\n",
        "\n",
        "\\\n",
        "You may use `anytree` library when you call the tree.\n",
        "Please refer to this [link](https://anytree.readthedocs.io/en/2.8.0/api/anytree.node.html)."
      ]
    },
    {
      "cell_type": "code",
      "execution_count": null,
      "metadata": {
        "id": "YuGnZyk5b0XR"
      },
      "outputs": [],
      "source": [
        "class Minimax: \n",
        "    def score_leaves(self):\n",
        "        for leaf in self.root.leaves:\n",
        "            if leaf.current_player==\"Max\":\n",
        "                leaf.score=-1\n",
        "            else:\n",
        "                leaf.score=1\n",
        "\n",
        "    def check_leaf(self,node):\n",
        "        if node.is_leaf:\n",
        "            return node.score\n",
        "\n",
        "    def minimax(self,node,current_player):\n",
        "        scores=[]\n",
        "        if (score := self.check_leaf(node)) is not None:\n",
        "            return score\n",
        "\n",
        "        if node.current_player==\"Max\":\n",
        "            '''   \n",
        "            [TODO 1]\n",
        "            Get the children of \"node\".\n",
        "            Then, get the children's scores.\n",
        "            Update the value of node.score to the appropriate score.(to visualize the tree)\n",
        "            Return appropriate value given the player.\n",
        "\n",
        "            * The value of node.score and return value should be same\n",
        "            HINT:\n",
        "            1. You may use \"node.children\" which returns the children of node\n",
        "            2. You may call \"minimax\" function recursively.\n",
        "            '''\n",
        "\n",
        "        else:\n",
        "            '''   \n",
        "            [TODO 2]\n",
        "            Get the children of \"node\".\n",
        "            Then, get the children's scores.\n",
        "            Update the value of node.score to the appropriate score.(to visualize the tree)\n",
        "            Return appropriate value given the player.\n",
        "\n",
        "            * The value of node.score and return value should be same\n",
        "\n",
        "            HINT:\n",
        "            1. The code will be similar to the above [TODO].\n",
        "\n",
        "            '''\n",
        "\n",
        "class Nim(Minimax): # \bWhy Nim takes Minimax? What's the benefit? => You can refer to \"Appendix - Python Inheritance\" section in this notebook.\n",
        "    def __init__(self, max_items_per_turn,root,initial_object,user_first):\n",
        "        super().__init__() # Get fucntions and properties of Minimax. Now, you can call them using \"self.\". (e.g., self.score_leaves())\n",
        "        self.root=root\n",
        "        self.initial_object=initial_object\n",
        "        self.user_first=user_first\n",
        "\n",
        "    def max_action(self,node):\n",
        "        scores=[]\n",
        "        new_states=[]\n",
        "\n",
        "        '''   \n",
        "        [TODO 3]\n",
        "        Get the children of \"node\".\n",
        "        Get a score of each child.\n",
        "\n",
        "        HINT:\n",
        "        1. You may use \"node.children\" which returns the children of node\n",
        "        2. You may call \"minimax\" function to get a score of each child.\n",
        "        '''\n",
        "\n",
        "\n",
        "    def user_input(self,node):\n",
        "        num_remove=int(input(\"Enter the number of objects to remove:\"))\n",
        "        for i in node.children:\n",
        "            if i.object_state==node.object_state-num_remove:\n",
        "                return i\n",
        "        return node\n",
        "\n",
        "    def game_manager(self):\n",
        "        #Score leaf nodes before starting the game\n",
        "        self.score_leaves()\n",
        "        current_node=self.root\n",
        "\n",
        "        for i in range(1,self.initial_object+1):\n",
        "            if i==1:print(f\"Initial Object:{self.initial_object}\")\n",
        "            #User turn\n",
        "            if (i+self.user_first)%2==0:\n",
        "                old_node=current_node\n",
        "                #keep requesting user input until the user enters an appropriate value\n",
        "                while old_node==current_node:\n",
        "                    current_node=self.user_input(current_node)\n",
        "                    if old_node==current_node:\n",
        "                        print(\"wrong input!\")\n",
        "                    else:\n",
        "                        print(f\"USER | Removed {old_node.object_state-current_node.object_state}, Remaining objects: {current_node.object_state}\")\n",
        "\n",
        "                if current_node.object_state==0:\n",
        "                    print('User win')\n",
        "                    break\n",
        "\n",
        "            #Program turn\n",
        "            else:\n",
        "                old_node=current_node\n",
        "                current_node=self.max_action(current_node)\n",
        "                print(f\"PROGRAM | Removed {old_node.object_state-current_node.object_state}, Remaining objects: {current_node.object_state}\")\n",
        "                \n",
        "                if current_node.object_state==0:\n",
        "                    print('Program win')\n",
        "                    break"
      ]
    },
    {
      "cell_type": "markdown",
      "metadata": {
        "id": "LKraW4SceiFk"
      },
      "source": [
        "#### **Test 1: Play game**\n",
        "Check yourself by playing with the maximizer! Given your choice, are the maximizer's choices expected? You may refer the score tree in Test2. \\\n",
        "You can set `max_items_per_turn`, `user_turn`, and `initial_object` to your own values when you play.\n",
        "\n",
        "\\* Note that if you want to check whether your code is right or not, please don't modify the setting or set them back to their original values after playing. (If you modify the setting, you will see a different score tree in Test 2.)\n",
        "\n",
        "```\n",
        "#Original Setting\n",
        "max_items_per_turn=2\n",
        "initial_object=5\n",
        "current_player=\"Max\"\n",
        "```\n",
        "\n"
      ]
    },
    {
      "cell_type": "code",
      "execution_count": null,
      "metadata": {
        "id": "GleudjP3Rwcc"
      },
      "outputs": [],
      "source": [
        "from anytree.node.nodemixin import TreeError\n",
        "from anytree.importer import DictImporter\n",
        "\n",
        "#game setting\n",
        "max_items_per_turn=2\n",
        "initial_object=5\n",
        "user_first=0     #if you want to start the game first, change this value to 1\n",
        "current_player=\"Min\" if user_first==1 else \"Max\"\n",
        "\n",
        "#tree construction\n",
        "tree=Tree(max_items_per_turn)\n",
        "tree_dict=tree.construct_tree(initial_object,current_player)\n",
        "root = tree.convert_dict_to_tree(tree_dict)\n",
        "\n",
        "#initialize the game and call the game manager\n",
        "nim_game=Nim(max_items_per_turn,root,initial_object,user_first)\n",
        "nim_game.game_manager()"
      ]
    },
    {
      "cell_type": "markdown",
      "metadata": {
        "id": "9-xIBNYm5eQ0"
      },
      "source": [
        "#### **Test 2: Score Tree**\n",
        "Please run the Test1 code cell before running Test2."
      ]
    },
    {
      "cell_type": "code",
      "execution_count": null,
      "metadata": {
        "id": "fTeAGo-S6mmS"
      },
      "outputs": [],
      "source": [
        "print('Your tree')\n",
        "tree.export_tree(root,is_score_tree=True,tree_name=\"tree_score\")\n",
        "Image('tree_score.png',width=700)"
      ]
    },
    {
      "cell_type": "code",
      "execution_count": null,
      "metadata": {
        "id": "DUd2vTAAsk06"
      },
      "outputs": [],
      "source": [
        "print(\"Expected tree:\")\n",
        "Image(\"tree_score_A.png\",width=700)"
      ]
    },
    {
      "cell_type": "markdown",
      "metadata": {
        "id": "NIskeK5YcJoV"
      },
      "source": [
        "## \b**Alpha-beta pruning for the Simple-nim game**"
      ]
    },
    {
      "cell_type": "markdown",
      "metadata": {
        "id": "3xa_lu8ezm8y"
      },
      "source": [
        "### **Task2: Implement Alpha-beta Pruning**\n",
        "\n",
        "\n",
        "> In this task, you will implement alpha-beta pruning. Check whether you completed all the [TODO] in task 2.\n",
        "\n",
        "\n",
        "☑️ 　　**[TODO 1]**: Retrieve possible states and get a score of current node in maximizer's view. Then, update alpha if needed. \\\n",
        "☑️ 　　**[TODO 2]**: Retrieve possible states and get a score of current node in minimizer's view. Then, update beta if needed. \\\n",
        "☑️ 　　**[TODO 3]**: Cut off unnecessary nodes based on the alpha and beta.\n",
        "\n"
      ]
    },
    {
      "cell_type": "code",
      "execution_count": null,
      "metadata": {
        "id": "buUtyEY11sXR"
      },
      "outputs": [],
      "source": [
        "class Minimax_pruning(Minimax):\n",
        "    def __init__(self,root):\n",
        "        super().__init__() # get the functions and properties of parent class(Minimax)\n",
        "        self.root=root\n",
        "\n",
        "    #   We set alpha and beta to -1 and 1, respectively instead of -inf and inf\n",
        "    def minimax_pruning(self, node, current_player, alpha=-1, beta=1):\n",
        "        if (score := self.check_leaf(node)) is not None:\n",
        "            return score\n",
        "\n",
        "        scores = []\n",
        "        for child in node.children:\n",
        "            if current_player==\"Max\":\n",
        "                '''   \n",
        "                [TODO 1]\n",
        "                Get the scores of child and update alpha\n",
        "                HINT:\n",
        "                1. The code can be similar to \"minimax\" function in Task1\n",
        "\n",
        "                '''\n",
        "\n",
        "\n",
        "            else:\n",
        "                '''   \n",
        "                [TODO 2]\n",
        "                Get the scores of child and update beta\n",
        "                HINT:\n",
        "                1. The code can be similar to \"minimax\" function in Task1 and the above [TODO]\n",
        "\n",
        "                '''\n",
        "\n",
        "\n",
        "            '''   \n",
        "            [TODO 3]\n",
        "            Prune the tree according to the alpha and beta.\n",
        "            Update the value of node.score to the appropriate score.(to visualize the tree)\n",
        "            Return the appropriate score.\n",
        "\n",
        "            * The value of node.score and return value should be same\n",
        "            '''\n"
      ]
    },
    {
      "cell_type": "markdown",
      "metadata": {
        "id": "on_2mz2m_ryM"
      },
      "source": [
        "### Test: Score tree"
      ]
    },
    {
      "cell_type": "code",
      "execution_count": null,
      "metadata": {
        "id": "aN9guWMJBDzk"
      },
      "outputs": [],
      "source": [
        "#tree setting\n",
        "max_items_per_turn=2\n",
        "initial_object=5\n",
        "current_player=\"Max\"\n",
        "\n",
        "#tree construction\n",
        "tree_pr=Tree(max_items_per_turn)\n",
        "tree_dict=tree_pr.construct_tree(initial_object,current_player)\n",
        "root_pr=tree_pr.convert_dict_to_tree(tree_dict)\n",
        "\n",
        "#initialize minimax pruning\n",
        "minimax_pr=Minimax_pruning(root_pr)\n",
        "#score leaf nodes\n",
        "minimax_pr.score_leaves()\n",
        "#run 'minimax + alpha-beta pruning' algorithm\n",
        "minimax_pr.minimax_pruning(root_pr,current_player)\n",
        "\n",
        "#export tree\n",
        "tree_pr.export_tree(root_pr,is_score_tree=True,tree_name=\"tree_score_pruning\")\n",
        "\n",
        "print(\"Your tree:\")\n",
        "Image(\"tree_score_pruning.png\", width=700)"
      ]
    },
    {
      "cell_type": "code",
      "execution_count": null,
      "metadata": {
        "id": "y36WdF5-sz5c"
      },
      "outputs": [],
      "source": [
        "print(\"Expected tree:\")\n",
        "Image(\"tree_score_pruning_A.png\",width=700)"
      ]
    },
    {
      "cell_type": "markdown",
      "metadata": {
        "id": "zBS0gT8iNSGa"
      },
      "source": [
        "##**Appendix**"
      ]
    },
    {
      "cell_type": "markdown",
      "metadata": {
        "id": "NTCvEij2OWTn"
      },
      "source": [
        "### **Python Inheritance**\n",
        "\n",
        "In this lab, you will begin by implementing the general Minimax algorithm. Following this, you will repurpose the algorithm to construct the Simple-Nim game and apply Alpha-Beta Pruning. This can be accomplished by simply inheriting the appropriate functions and properties\n",
        "\n",
        "**Inheritance** allows us to define a class that inherits all the methods and properties from another class.\n",
        "\n",
        "**Parent class** is the class being inherited from, also called base class.\n",
        "\n",
        "**Child class** is the class that inherits from another class, also called derived class.\n",
        "\n",
        "In our case, `Minimax` is a parent class while `Nim` and `Minimax_pruning` are child classes.\n",
        "\n",
        "[Python Inheritance](https://www.w3schools.com/python/python_inheritance.asp)\n"
      ]
    }
  ],
  "metadata": {
    "colab": {
      "provenance": [],
      "toc_visible": true
    },
    "kernelspec": {
      "display_name": "Python 3",
      "name": "python3"
    },
    "language_info": {
      "codemirror_mode": {
        "name": "ipython",
        "version": 3
      },
      "file_extension": ".py",
      "mimetype": "text/x-python",
      "name": "python",
      "nbconvert_exporter": "python",
      "pygments_lexer": "ipython3",
      "version": "3.9.5"
    }
  },
  "nbformat": 4,
  "nbformat_minor": 0
}
